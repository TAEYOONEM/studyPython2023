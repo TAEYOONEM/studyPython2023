{
 "cells": [
  {
   "attachments": {},
   "cell_type": "markdown",
   "metadata": {},
   "source": [
    "## 1번"
   ]
  },
  {
   "cell_type": "code",
   "execution_count": 2,
   "metadata": {},
   "outputs": [
    {
     "name": "stdout",
     "output_type": "stream",
     "text": [
      "28.274333882308138\n"
     ]
    }
   ],
   "source": [
    "import numpy as np\n",
    "r = float(input())\n",
    "print(np.pi*r*r)"
   ]
  },
  {
   "attachments": {},
   "cell_type": "markdown",
   "metadata": {},
   "source": [
    "## 2번"
   ]
  },
  {
   "cell_type": "code",
   "execution_count": 22,
   "metadata": {},
   "outputs": [],
   "source": [
    "planet = [['Mercury','수성'],['Venus','금성'],\n",
    "['Earth','지구'],['Mars','화성'],['Jupiter','목성'],\n",
    "['Saturn','토성'],['Uranus','천왕성'],['Neptune' ,'해왕성']]\n",
    "\n",
    "name = input()\n",
    "for i in range(8) :\n",
    "    if name == planet[i][0] :\n",
    "        print(planet[i][1])\n",
    "        break"
   ]
  },
  {
   "attachments": {},
   "cell_type": "markdown",
   "metadata": {},
   "source": [
    "## 3번"
   ]
  },
  {
   "cell_type": "code",
   "execution_count": 2,
   "metadata": {},
   "outputs": [
    {
     "name": "stdout",
     "output_type": "stream",
     "text": [
      "English LANGUAGE = 2\n"
     ]
    }
   ],
   "source": [
    "cnt = 0\n",
    "for i in input().split() :\n",
    "    cnt+=1\n",
    "    if cnt%2 == 0 :\n",
    "        i = i.upper()\n",
    "    print(i,end=' ')\n",
    "print('=',cnt)"
   ]
  },
  {
   "attachments": {},
   "cell_type": "markdown",
   "metadata": {},
   "source": [
    "## 4번"
   ]
  },
  {
   "cell_type": "code",
   "execution_count": 27,
   "metadata": {},
   "outputs": [
    {
     "name": "stdout",
     "output_type": "stream",
     "text": [
      "[1, 3, 5, 7, 9] __>9 7 5 3 1 "
     ]
    }
   ],
   "source": [
    "arr = list(map(int,input().split()))\n",
    "for i in reversed(arr) :\n",
    "    print(i,end=' ')\n"
   ]
  },
  {
   "attachments": {},
   "cell_type": "markdown",
   "metadata": {},
   "source": [
    "## 5번"
   ]
  },
  {
   "cell_type": "code",
   "execution_count": 26,
   "metadata": {},
   "outputs": [
    {
     "name": "stdout",
     "output_type": "stream",
     "text": [
      "3 __> 3 6 9 12 15 18 21 24 27 "
     ]
    }
   ],
   "source": [
    "n = int(input())\n",
    "for i in range(1,10) :\n",
    "    print(n * i,end=' ')"
   ]
  }
 ],
 "metadata": {
  "kernelspec": {
   "display_name": "Python 3",
   "language": "python",
   "name": "python3"
  },
  "language_info": {
   "codemirror_mode": {
    "name": "ipython",
    "version": 3
   },
   "file_extension": ".py",
   "mimetype": "text/x-python",
   "name": "python",
   "nbconvert_exporter": "python",
   "pygments_lexer": "ipython3",
   "version": "3.11.1"
  },
  "orig_nbformat": 4,
  "vscode": {
   "interpreter": {
    "hash": "a3d8f53f1429d27b792a3789224562ddd32c1395c9a9cfbb17b3c19c3b9a493d"
   }
  }
 },
 "nbformat": 4,
 "nbformat_minor": 2
}
